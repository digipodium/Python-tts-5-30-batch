{
 "metadata": {
  "language_info": {
   "codemirror_mode": {
    "name": "ipython",
    "version": 3
   },
   "file_extension": ".py",
   "mimetype": "text/x-python",
   "name": "python",
   "nbconvert_exporter": "python",
   "pygments_lexer": "ipython3",
   "version": "3.8.6-final"
  },
  "orig_nbformat": 2,
  "kernelspec": {
   "name": "Python 3.8.6 64-bit",
   "display_name": "Python 3.8.6 64-bit",
   "metadata": {
    "interpreter": {
     "hash": "9ad268fd485861c22c359044ed3ddbe8fb481338325f6875a93294b1083849ba"
    }
   }
  }
 },
 "nbformat": 4,
 "nbformat_minor": 2,
 "cells": [
  {
   "source": [
    "### lambda expression are single line function without any name \n",
    "- also called annonymous functions in python\n",
    "- in maths\n",
    "```\n",
    "f(x) = x + 10 * 3 / x\n",
    "```\n",
    "- in python\n",
    "```\n",
    "f = lambda x : x + 10 * 3 / x\n",
    "```\n",
    "then we can use it like this\n",
    "```\n",
    "f(3)\n",
    "f(5)\n",
    "```\n",
    "`f` can be replace with any funcname here"
   ],
   "cell_type": "markdown",
   "metadata": {}
  },
  {
   "source": [
    "f = lambda x : x + 10 * 3 / x"
   ],
   "cell_type": "code",
   "metadata": {},
   "execution_count": 1,
   "outputs": []
  },
  {
   "cell_type": "code",
   "execution_count": 2,
   "metadata": {},
   "outputs": [
    {
     "output_type": "execute_result",
     "data": {
      "text/plain": [
       "13.0"
      ]
     },
     "metadata": {},
     "execution_count": 2
    }
   ],
   "source": [
    "f(3)"
   ]
  },
  {
   "cell_type": "code",
   "execution_count": 3,
   "metadata": {},
   "outputs": [
    {
     "output_type": "execute_result",
     "data": {
      "text/plain": [
       "11.0"
      ]
     },
     "metadata": {},
     "execution_count": 3
    }
   ],
   "source": [
    "f(5)"
   ]
  },
  {
   "cell_type": "code",
   "execution_count": 5,
   "metadata": {},
   "outputs": [],
   "source": [
    "eq = lambda a,b : (a+b)**2"
   ]
  },
  {
   "cell_type": "code",
   "execution_count": 6,
   "metadata": {},
   "outputs": [
    {
     "output_type": "execute_result",
     "data": {
      "text/plain": [
       "25"
      ]
     },
     "metadata": {},
     "execution_count": 6
    }
   ],
   "source": [
    "eq(2,3)"
   ]
  },
  {
   "source": [
    "## lambda expression are used with `map` and `filter` function basically\n",
    "- when we want a single operation to be perform on  multiple values to get updated data\n",
    "- `map` is used to execute any expression on each value of an iterator\n",
    "- `filter` is used for conditional filtering of each value based of expression"
   ],
   "cell_type": "markdown",
   "metadata": {}
  },
  {
   "cell_type": "code",
   "execution_count": 9,
   "metadata": {},
   "outputs": [
    {
     "output_type": "execute_result",
     "data": {
      "text/plain": [
       "[72, 57, 38, 69, 58, 12, 42, 18, 83, 41, 44, 30, 20, 75, 84]"
      ]
     },
     "metadata": {},
     "execution_count": 9
    }
   ],
   "source": [
    "import random\n",
    "data =[]\n",
    "for i in range(15) :\n",
    "    data.append(random.randint(1,100))\n",
    "data"
   ]
  },
  {
   "cell_type": "code",
   "execution_count": 12,
   "metadata": {},
   "outputs": [
    {
     "output_type": "execute_result",
     "data": {
      "text/plain": [
       "[82, 67, 48, 79, 68, 22, 52, 28, 93, 51, 54, 40, 30, 85, 94]"
      ]
     },
     "metadata": {},
     "execution_count": 12
    }
   ],
   "source": [
    "# normal version of adding a number to list values\n",
    "updated_data = []                           # created new list\n",
    "for i in data:                              # loop to get each value\n",
    "    x = i + 10                              # performed operation\n",
    "    updated_data.append(x)                  # added value to new list\n",
    "updated_data"
   ]
  },
  {
   "cell_type": "code",
   "execution_count": 18,
   "metadata": {},
   "outputs": [
    {
     "output_type": "execute_result",
     "data": {
      "text/plain": [
       "[82, 67, 48, 79, 68, 22, 52, 28, 93, 51, 54, 40, 30, 85, 94]"
      ]
     },
     "metadata": {},
     "execution_count": 18
    }
   ],
   "source": [
    "new_data = map(lambda i: i + 10, data) # created new obj, loop, operation, value added\n",
    "list(new_data)"
   ]
  },
  {
   "cell_type": "code",
   "execution_count": 23,
   "metadata": {},
   "outputs": [],
   "source": [
    "# collect only even num and store them in a list\n",
    "evendata = filter(lambda x: x%2 == 0, data)"
   ]
  },
  {
   "cell_type": "code",
   "execution_count": 24,
   "metadata": {},
   "outputs": [
    {
     "output_type": "execute_result",
     "data": {
      "text/plain": [
       "[72, 38, 58, 12, 42, 18, 44, 30, 20, 84]"
      ]
     },
     "metadata": {},
     "execution_count": 24
    }
   ],
   "source": [
    "list(evendata)"
   ]
  },
  {
   "cell_type": "code",
   "execution_count": 28,
   "metadata": {},
   "outputs": [
    {
     "output_type": "execute_result",
     "data": {
      "text/plain": [
       "[72, 57, 69, 58, 83, 75, 84]"
      ]
     },
     "metadata": {},
     "execution_count": 28
    }
   ],
   "source": [
    "# collect only values bigger than 50\n",
    "above50 = filter(lambda x: x > 50, data )\n",
    "list(above50)"
   ]
  },
  {
   "source": [
    "# Questions\n",
    "- create a lambda function that adds 15 to a given number passed in as an argument\n",
    "- program to extract year, month, date and time using Lambda\n",
    "- create Fibonacci series upto n using Lambda\n",
    "- count the even, odd numbers in a given array of integers using Lambda"
   ],
   "cell_type": "markdown",
   "metadata": {}
  },
  {
   "source": [
    "#  monday tak screenshot bhejna"
   ],
   "cell_type": "markdown",
   "metadata": {}
  },
  {
   "cell_type": "code",
   "execution_count": null,
   "metadata": {},
   "outputs": [],
   "source": []
  }
 ]
}