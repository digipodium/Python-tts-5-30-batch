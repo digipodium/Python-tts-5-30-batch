{
 "metadata": {
  "language_info": {
   "codemirror_mode": {
    "name": "ipython",
    "version": 3
   },
   "file_extension": ".py",
   "mimetype": "text/x-python",
   "name": "python",
   "nbconvert_exporter": "python",
   "pygments_lexer": "ipython3",
   "version": "3.8.6-final"
  },
  "orig_nbformat": 2,
  "kernelspec": {
   "name": "Python 3.8.6 64-bit",
   "display_name": "Python 3.8.6 64-bit",
   "metadata": {
    "interpreter": {
     "hash": "9ad268fd485861c22c359044ed3ddbe8fb481338325f6875a93294b1083849ba"
    }
   }
  }
 },
 "nbformat": 4,
 "nbformat_minor": 2,
 "cells": [
  {
   "source": [
    "```\n",
    "def funname(p1, p2, p3 ... pn):\n",
    "    code 1\n",
    "    code 2\n",
    "    ...\n",
    "```\n",
    "- p1, p2, p3 ... pn are parameter\n",
    "- in python we dont need to pass datatype for parameter\n",
    "- a function can have any number of parameter from 0 to n\n",
    "- parameter passing can be of three types\n",
    "    - required\n",
    "    - default\n",
    "    - variable argument\n",
    "- a function call specifies what values will these parameter used when executed"
   ],
   "cell_type": "markdown",
   "metadata": {}
  },
  {
   "cell_type": "code",
   "execution_count": 5,
   "metadata": {},
   "outputs": [],
   "source": [
    "def space_counter(data):\n",
    "    return data.count(' ')"
   ]
  },
  {
   "cell_type": "code",
   "execution_count": 6,
   "metadata": {},
   "outputs": [
    {
     "output_type": "execute_result",
     "data": {
      "text/plain": [
       "4"
      ]
     },
     "metadata": {},
     "execution_count": 6
    }
   ],
   "source": [
    "space_counter(\"this is an example data\") # direct value passing"
   ]
  },
  {
   "cell_type": "code",
   "execution_count": 7,
   "metadata": {},
   "outputs": [
    {
     "output_type": "execute_result",
     "data": {
      "text/plain": [
       "12"
      ]
     },
     "metadata": {},
     "execution_count": 7
    }
   ],
   "source": [
    "msg = 'i was going to sleep when my mom called me to do chores'\n",
    "space_counter(msg) # passing variable in function"
   ]
  },
  {
   "cell_type": "code",
   "execution_count": 8,
   "metadata": {},
   "outputs": [
    {
     "output_type": "execute_result",
     "data": {
      "text/plain": [
       "6"
      ]
     },
     "metadata": {},
     "execution_count": 8
    }
   ],
   "source": [
    "msg = input('enter a msg')\n",
    "space_counter(msg) # passing user input in function"
   ]
  },
  {
   "cell_type": "code",
   "execution_count": 12,
   "metadata": {},
   "outputs": [
    {
     "output_type": "execute_result",
     "data": {
      "text/plain": [
       "[23, 13, 13, 12, 4, 2, 1, 1]"
      ]
     },
     "metadata": {},
     "execution_count": 12
    }
   ],
   "source": [
    "# default argument \n",
    "x = [1,2,4,1,23,13,13,12,]\n",
    "x.sort(reverse=True) # reverse parameter is a default parameter, we can pass it when we need it or skip it\n",
    "x"
   ]
  },
  {
   "cell_type": "code",
   "execution_count": 14,
   "metadata": {},
   "outputs": [],
   "source": [
    "def equation(x,y,z=1):\n",
    "    return x + y ** z"
   ]
  },
  {
   "cell_type": "code",
   "execution_count": 15,
   "metadata": {},
   "outputs": [
    {
     "output_type": "execute_result",
     "data": {
      "text/plain": [
       "5"
      ]
     },
     "metadata": {},
     "execution_count": 15
    }
   ],
   "source": [
    "equation(2,3)"
   ]
  },
  {
   "cell_type": "code",
   "execution_count": 16,
   "metadata": {},
   "outputs": [
    {
     "output_type": "execute_result",
     "data": {
      "text/plain": [
       "11"
      ]
     },
     "metadata": {},
     "execution_count": 16
    }
   ],
   "source": [
    "equation(2,3,2)"
   ]
  },
  {
   "cell_type": "code",
   "execution_count": 17,
   "metadata": {},
   "outputs": [
    {
     "output_type": "execute_result",
     "data": {
      "text/plain": [
       "13"
      ]
     },
     "metadata": {},
     "execution_count": 17
    }
   ],
   "source": [
    "equation(x = 10 ,y = 3) # we can also pass names to values "
   ]
  },
  {
   "cell_type": "code",
   "execution_count": 18,
   "metadata": {},
   "outputs": [
    {
     "output_type": "execute_result",
     "data": {
      "text/plain": [
       "1034"
      ]
     },
     "metadata": {},
     "execution_count": 18
    }
   ],
   "source": [
    "equation(x=10,y=2,z=10)"
   ]
  },
  {
   "cell_type": "code",
   "execution_count": 20,
   "metadata": {},
   "outputs": [
    {
     "output_type": "execute_result",
     "data": {
      "text/plain": [
       "253"
      ]
     },
     "metadata": {},
     "execution_count": 20
    }
   ],
   "source": [
    "equation(10,3,z=5)"
   ]
  },
  {
   "cell_type": "code",
   "execution_count": 22,
   "metadata": {},
   "outputs": [
    {
     "output_type": "stream",
     "name": "stdout",
     "text": [
      "hello,world\n"
     ]
    }
   ],
   "source": [
    "print('hello',end=',')\n",
    "print('world')"
   ]
  },
  {
   "source": [
    "### variable arguments\n",
    "- when u need to create a function that can take any number of parameters.\n",
    "the we use `*parameter` in function\n",
    "```\n",
    "def funname(*parameter):\n",
    "    code \n",
    "    ...\n",
    "```\n",
    "- *parameter means we can pass any number of comma seperated values in the function and these values will be kept in a list automatically\n"
   ],
   "cell_type": "markdown",
   "metadata": {}
  },
  {
   "cell_type": "code",
   "execution_count": 23,
   "metadata": {},
   "outputs": [],
   "source": [
    "def list_utils(*values,action='sum'):\n",
    "    if action == 'sum':\n",
    "        return sum(values)\n",
    "    elif action == 'avg':\n",
    "        return sum(values)/len(values)\n",
    "    elif action == 'odds':\n",
    "        return values[1::2]\n",
    "    elif action == 'evens':\n",
    "        return values[::2]\n",
    "    else:\n",
    "        return 'invalid action try sum,avg,odds,evens'"
   ]
  },
  {
   "cell_type": "code",
   "execution_count": 26,
   "metadata": {},
   "outputs": [
    {
     "output_type": "execute_result",
     "data": {
      "text/plain": [
       "1295"
      ]
     },
     "metadata": {},
     "execution_count": 26
    }
   ],
   "source": [
    "list_utils(1,2,4,1,2,3,4,5,6,2,1)\n",
    "list_utils(5,5)\n",
    "list_utils(2,3,12,3,123,123,12,31,23,12,312,312,3,12,312,)"
   ]
  },
  {
   "cell_type": "code",
   "execution_count": 27,
   "metadata": {},
   "outputs": [
    {
     "output_type": "execute_result",
     "data": {
      "text/plain": [
       "2.8181818181818183"
      ]
     },
     "metadata": {},
     "execution_count": 27
    }
   ],
   "source": [
    "list_utils(1,2,4,1,2,3,4,5,6,2,1,action='avg')"
   ]
  },
  {
   "cell_type": "code",
   "execution_count": 28,
   "metadata": {},
   "outputs": [
    {
     "output_type": "stream",
     "name": "stdout",
     "text": [
      "1 2 3 4\n"
     ]
    }
   ],
   "source": [
    "print(1,2,3,4)"
   ]
  },
  {
   "cell_type": "code",
   "execution_count": 31,
   "metadata": {},
   "outputs": [],
   "source": [
    "def capitalzer(*names):\n",
    "    for item in names:\n",
    "        print(item.upper(),end='\\t')"
   ]
  },
  {
   "cell_type": "code",
   "execution_count": 32,
   "metadata": {},
   "outputs": [
    {
     "output_type": "stream",
     "name": "stdout",
     "text": [
      "KUMKUM\tAYUSH\tVISHAL\t"
     ]
    }
   ],
   "source": [
    "capitalzer('kumkum','ayush','vishal')"
   ]
  },
  {
   "cell_type": "code",
   "execution_count": null,
   "metadata": {},
   "outputs": [],
   "source": []
  }
 ]
}