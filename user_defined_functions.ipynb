{
 "metadata": {
  "language_info": {
   "codemirror_mode": {
    "name": "ipython",
    "version": 3
   },
   "file_extension": ".py",
   "mimetype": "text/x-python",
   "name": "python",
   "nbconvert_exporter": "python",
   "pygments_lexer": "ipython3",
   "version": "3.8.3-final"
  },
  "orig_nbformat": 2,
  "kernelspec": {
   "name": "python3",
   "display_name": "Python 3"
  }
 },
 "nbformat": 4,
 "nbformat_minor": 2,
 "cells": [
  {
   "source": [
    "# user defined functions\n",
    "two steps in these functions are \n",
    "- defination (writing the function code)\n",
    "- calling (using a funtion)"
   ],
   "cell_type": "markdown",
   "metadata": {}
  },
  {
   "source": [
    "```\n",
    "def fun_name([params]):\n",
    "    statement 1\n",
    "    statement 2\n",
    "    ...\n",
    "    statement n\n",
    "\n",
    "```"
   ],
   "cell_type": "markdown",
   "metadata": {}
  },
  {
   "source": [
    "## functions without parameters\n",
    "these function dont take input and output, the are complete in themselve"
   ],
   "cell_type": "markdown",
   "metadata": {}
  },
  {
   "cell_type": "code",
   "execution_count": 2,
   "metadata": {},
   "outputs": [],
   "source": [
    "def add_values():\n",
    "    x = int(input('X:'))\n",
    "    y = int(input('Y:'))\n",
    "    z = x  + y\n",
    "    print(z)"
   ]
  },
  {
   "cell_type": "code",
   "execution_count": 4,
   "metadata": {},
   "outputs": [
    {
     "output_type": "stream",
     "name": "stdout",
     "text": [
      "300\n"
     ]
    }
   ],
   "source": [
    "add_values()"
   ]
  },
  {
   "cell_type": "code",
   "execution_count": 6,
   "metadata": {},
   "outputs": [],
   "source": [
    "import os\n",
    "def file_counter():\n",
    "    address = input('enter a folder address:')\n",
    "    if os.path.exists(address):\n",
    "        data =  os.listdir(address)\n",
    "        file_count = 0\n",
    "        for item in data:\n",
    "            itempath = address+'/'+item\n",
    "            if os.path.isfile(itempath):\n",
    "                file_count += 1\n",
    "        print(f'total files in address : {file_count}')\n",
    "    else:\n",
    "        print('address invalid')\n"
   ]
  },
  {
   "cell_type": "code",
   "execution_count": 8,
   "metadata": {},
   "outputs": [
    {
     "output_type": "stream",
     "name": "stdout",
     "text": [
      "total files in address : 28\n"
     ]
    }
   ],
   "source": [
    "file_counter()"
   ]
  },
  {
   "cell_type": "code",
   "execution_count": 9,
   "metadata": {},
   "outputs": [
    {
     "output_type": "stream",
     "name": "stdout",
     "text": [
      "total files in address : 1\n"
     ]
    }
   ],
   "source": [
    "file_counter()"
   ]
  },
  {
   "cell_type": "code",
   "execution_count": 13,
   "metadata": {},
   "outputs": [
    {
     "output_type": "stream",
     "name": "stdout",
     "text": [
      "2\n"
     ]
    }
   ],
   "source": [
    "print(len('hi'))"
   ]
  },
  {
   "cell_type": "code",
   "execution_count": 15,
   "metadata": {},
   "outputs": [
    {
     "output_type": "stream",
     "name": "stdout",
     "text": [
      "300\nNone\n"
     ]
    }
   ],
   "source": [
    "print(add_values())"
   ]
  },
  {
   "cell_type": "code",
   "execution_count": 16,
   "metadata": {},
   "outputs": [
    {
     "output_type": "execute_result",
     "data": {
      "text/plain": [
       "str"
      ]
     },
     "metadata": {},
     "execution_count": 16
    }
   ],
   "source": [
    "type('rome')"
   ]
  },
  {
   "cell_type": "code",
   "execution_count": 17,
   "metadata": {},
   "outputs": [
    {
     "output_type": "stream",
     "name": "stdout",
     "text": [
      "<class 'str'>\n"
     ]
    }
   ],
   "source": [
    "print(type('rome'))"
   ]
  },
  {
   "source": [
    "### the functions without parameter dont take input and return no value, thus they are least useful"
   ],
   "cell_type": "markdown",
   "metadata": {}
  },
  {
   "source": [
    "## function returning values\n",
    "- these function perform some task and return value from the function. these are useful for getting a result, so that we an perform the next action"
   ],
   "cell_type": "markdown",
   "metadata": {}
  },
  {
   "cell_type": "code",
   "execution_count": 31,
   "metadata": {},
   "outputs": [],
   "source": [
    "def avg():\n",
    "    x = input('enter numbers seperated by comma:')\n",
    "    x = x.split(',')\n",
    "    total = 0\n",
    "    for i in x:\n",
    "        total += int(i)\n",
    "    # print(x)\n",
    "    result = total/len(x)\n",
    "    return result"
   ]
  },
  {
   "cell_type": "code",
   "execution_count": 33,
   "metadata": {},
   "outputs": [
    {
     "output_type": "execute_result",
     "data": {
      "text/plain": [
       "4.75"
      ]
     },
     "metadata": {},
     "execution_count": 33
    }
   ],
   "source": [
    "avg()"
   ]
  },
  {
   "cell_type": "code",
   "execution_count": 35,
   "metadata": {},
   "outputs": [],
   "source": [
    "a = avg()"
   ]
  },
  {
   "cell_type": "code",
   "execution_count": 37,
   "metadata": {},
   "outputs": [
    {
     "output_type": "stream",
     "name": "stdout",
     "text": [
      "5.0\n"
     ]
    }
   ],
   "source": [
    "print(a)"
   ]
  },
  {
   "cell_type": "code",
   "execution_count": 38,
   "metadata": {},
   "outputs": [],
   "source": [
    "if a > 10:\n",
    "    print('good')"
   ]
  },
  {
   "cell_type": "code",
   "execution_count": 40,
   "metadata": {},
   "outputs": [],
   "source": [
    "import math\n",
    "def get_isoceles_triangle_sides():\n",
    "    height = int(input('HEIGHT:'))\n",
    "    base_size = int(input('BASE_SIZE'))\n",
    "    x = math.hypot(height,base_size/2)\n",
    "    sides = [x,x]\n",
    "    return sides"
   ]
  },
  {
   "cell_type": "code",
   "execution_count": 41,
   "metadata": {},
   "outputs": [
    {
     "output_type": "execute_result",
     "data": {
      "text/plain": [
       "[5.0, 5.0]"
      ]
     },
     "metadata": {},
     "execution_count": 41
    }
   ],
   "source": [
    "get_isoceles_triangle_sides()"
   ]
  },
  {
   "cell_type": "code",
   "execution_count": 42,
   "metadata": {},
   "outputs": [
    {
     "output_type": "stream",
     "name": "stdout",
     "text": [
      "[14.142135623730951, 14.142135623730951]\n"
     ]
    }
   ],
   "source": [
    "result = get_isoceles_triangle_sides()\n",
    "print(result)"
   ]
  },
  {
   "cell_type": "code",
   "execution_count": 43,
   "metadata": {},
   "outputs": [],
   "source": [
    "def get_surname():\n",
    "    name = input('enter full name')\n",
    "    return name.split()[-1] # last piece of name is surname"
   ]
  },
  {
   "cell_type": "code",
   "execution_count": 44,
   "metadata": {},
   "outputs": [
    {
     "output_type": "execute_result",
     "data": {
      "text/plain": [
       "'kamil'"
      ]
     },
     "metadata": {},
     "execution_count": 44
    }
   ],
   "source": [
    "get_surname()"
   ]
  },
  {
   "cell_type": "code",
   "execution_count": 45,
   "metadata": {},
   "outputs": [
    {
     "output_type": "execute_result",
     "data": {
      "text/plain": [
       "'jackson'"
      ]
     },
     "metadata": {},
     "execution_count": 45
    }
   ],
   "source": [
    "get_surname()"
   ]
  },
  {
   "source": [
    "surname = get_surname()"
   ],
   "cell_type": "code",
   "metadata": {},
   "execution_count": 48,
   "outputs": []
  },
  {
   "cell_type": "code",
   "execution_count": 49,
   "metadata": {},
   "outputs": [
    {
     "output_type": "execute_result",
     "data": {
      "text/plain": [
       "'gupta'"
      ]
     },
     "metadata": {},
     "execution_count": 49
    }
   ],
   "source": [
    "surnane"
   ]
  },
  {
   "source": [
    "# assignment on functions\n",
    "- create a function that returns the sum of all prime numbers from 2 to 2000\n",
    "- create a function that returns the fibonacci series when the user enter two starting numbers\n",
    "- create a function to find any string is palindrome or not and return True or False from function\n",
    "- create a functions the calculate the area of a hemisphere based on inputs"
   ],
   "cell_type": "markdown",
   "metadata": {}
  },
  {
   "cell_type": "code",
   "execution_count": null,
   "metadata": {},
   "outputs": [],
   "source": []
  }
 ]
}